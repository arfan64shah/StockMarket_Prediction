{
 "cells": [
  {
   "cell_type": "code",
   "execution_count": 39,
   "id": "99368539-1297-4cc6-9325-1b7ae8302ca2",
   "metadata": {},
   "outputs": [],
   "source": [
    "# import required libraries\n",
    "import pandas as pd\n",
    "import numpy as np\n",
    "import requests as rq\n",
    "import plotly.graph_objects as go\n",
    "import time\n",
    "import datetime\n",
    "from sklearn.neighbors import KNeighborsRegressor\n",
    "from sklearn.metrics import mean_absolute_error, r2_score, mean_squared_error\n",
    "from sklearn.model_selection import GridSearchCV\n",
    "from joblib import dump"
   ]
  },
  {
   "cell_type": "code",
   "execution_count": 2,
   "id": "f8e84fe0-691b-4b71-94b4-0f883ad16842",
   "metadata": {},
   "outputs": [
    {
     "name": "stdout",
     "output_type": "stream",
     "text": [
      "             Datetime      Open      High       Low     Close     Volume\n",
      "0 1999-12-31 14:30:00  0.901228  0.918527  0.888393  0.917969  163811200\n",
      "1 2000-01-03 14:30:00  0.936384  1.004464  0.907924  0.999442  535796800\n",
      "2 2000-01-04 14:30:00  0.966518  0.987723  0.903460  0.915179  512377600\n",
      "3 2000-01-05 14:30:00  0.926339  0.987165  0.919643  0.928571  778321600\n",
      "4 2000-01-06 14:30:00  0.947545  0.955357  0.848214  0.848214  767972800\n"
     ]
    }
   ],
   "source": [
    "# Define your stock and time period\n",
    "start_timestamp = '2000-01-01'\n",
    "end_timestamp = '2025-01-01'\n",
    "symbol = 'AAPL'\n",
    "\n",
    "# now convert time into unix format\n",
    "def to_unix_timestamp(date_str):\n",
    "    dt = datetime.datetime.strptime(date_str, \"%Y-%m-%d\")\n",
    "    return int(time.mktime(dt.timetuple()))\n",
    "\n",
    "# now define the periods\n",
    "period1 = to_unix_timestamp(start_timestamp)\n",
    "period2 = to_unix_timestamp(end_timestamp)\n",
    "\n",
    "# Build the URL\n",
    "url = f\"https://query1.finance.yahoo.com/v8/finance/chart/{symbol}\"\n",
    "\n",
    "params = {\n",
    "    \"period1\": period1,\n",
    "    \"period2\": period2,\n",
    "    \"interval\": \"1d\",\n",
    "    \"events\": \"history\",\n",
    "    \"includeAdjustedClose\": \"true\"\n",
    "}\n",
    "\n",
    "headers = {\n",
    "    \"User-Agent\": \"Mozilla/5.0\"\n",
    "}\n",
    "\n",
    "# Send request\n",
    "response = rq.get(url, headers=headers, params=params)\n",
    "\n",
    "# Process response\n",
    "if response.status_code == 200:\n",
    "    data = response.json()\n",
    "    timestamps = data['chart']['result'][0]['timestamp']\n",
    "    indicators = data['chart']['result'][0]['indicators']['quote'][0]\n",
    "    \n",
    "    dataset = pd.DataFrame({\n",
    "        'Datetime': pd.to_datetime(timestamps, unit='s'),\n",
    "        'Open': indicators['open'],\n",
    "        'High': indicators['high'],\n",
    "        'Low': indicators['low'],\n",
    "        'Close': indicators['close'],\n",
    "        'Volume': indicators['volume']\n",
    "    })\n",
    "    \n",
    "    print(dataset.head())\n",
    "    \n",
    "else:\n",
    "    print(f\"Failed to fetch data {response.status_code}\")"
   ]
  },
  {
   "cell_type": "code",
   "execution_count": 3,
   "id": "beb95258-a15e-44a1-95a8-fb03aa4f32d2",
   "metadata": {},
   "outputs": [
    {
     "data": {
      "text/html": [
       "<div>\n",
       "<style scoped>\n",
       "    .dataframe tbody tr th:only-of-type {\n",
       "        vertical-align: middle;\n",
       "    }\n",
       "\n",
       "    .dataframe tbody tr th {\n",
       "        vertical-align: top;\n",
       "    }\n",
       "\n",
       "    .dataframe thead th {\n",
       "        text-align: right;\n",
       "    }\n",
       "</style>\n",
       "<table border=\"1\" class=\"dataframe\">\n",
       "  <thead>\n",
       "    <tr style=\"text-align: right;\">\n",
       "      <th></th>\n",
       "      <th>Datetime</th>\n",
       "      <th>Open</th>\n",
       "      <th>High</th>\n",
       "      <th>Low</th>\n",
       "      <th>Close</th>\n",
       "      <th>Volume</th>\n",
       "    </tr>\n",
       "  </thead>\n",
       "  <tbody>\n",
       "    <tr>\n",
       "      <th>0</th>\n",
       "      <td>1999-12-31 14:30:00</td>\n",
       "      <td>0.901228</td>\n",
       "      <td>0.918527</td>\n",
       "      <td>0.888393</td>\n",
       "      <td>0.917969</td>\n",
       "      <td>163811200</td>\n",
       "    </tr>\n",
       "    <tr>\n",
       "      <th>1</th>\n",
       "      <td>2000-01-03 14:30:00</td>\n",
       "      <td>0.936384</td>\n",
       "      <td>1.004464</td>\n",
       "      <td>0.907924</td>\n",
       "      <td>0.999442</td>\n",
       "      <td>535796800</td>\n",
       "    </tr>\n",
       "    <tr>\n",
       "      <th>2</th>\n",
       "      <td>2000-01-04 14:30:00</td>\n",
       "      <td>0.966518</td>\n",
       "      <td>0.987723</td>\n",
       "      <td>0.903460</td>\n",
       "      <td>0.915179</td>\n",
       "      <td>512377600</td>\n",
       "    </tr>\n",
       "    <tr>\n",
       "      <th>3</th>\n",
       "      <td>2000-01-05 14:30:00</td>\n",
       "      <td>0.926339</td>\n",
       "      <td>0.987165</td>\n",
       "      <td>0.919643</td>\n",
       "      <td>0.928571</td>\n",
       "      <td>778321600</td>\n",
       "    </tr>\n",
       "    <tr>\n",
       "      <th>4</th>\n",
       "      <td>2000-01-06 14:30:00</td>\n",
       "      <td>0.947545</td>\n",
       "      <td>0.955357</td>\n",
       "      <td>0.848214</td>\n",
       "      <td>0.848214</td>\n",
       "      <td>767972800</td>\n",
       "    </tr>\n",
       "  </tbody>\n",
       "</table>\n",
       "</div>"
      ],
      "text/plain": [
       "             Datetime      Open      High       Low     Close     Volume\n",
       "0 1999-12-31 14:30:00  0.901228  0.918527  0.888393  0.917969  163811200\n",
       "1 2000-01-03 14:30:00  0.936384  1.004464  0.907924  0.999442  535796800\n",
       "2 2000-01-04 14:30:00  0.966518  0.987723  0.903460  0.915179  512377600\n",
       "3 2000-01-05 14:30:00  0.926339  0.987165  0.919643  0.928571  778321600\n",
       "4 2000-01-06 14:30:00  0.947545  0.955357  0.848214  0.848214  767972800"
      ]
     },
     "execution_count": 3,
     "metadata": {},
     "output_type": "execute_result"
    }
   ],
   "source": [
    "# find dataset\n",
    "dataset.head()"
   ]
  },
  {
   "cell_type": "code",
   "execution_count": 4,
   "id": "bdb6d01b-43a0-4fea-8e71-7453b6e584f9",
   "metadata": {},
   "outputs": [
    {
     "data": {
      "text/plain": [
       "(6290, 6)"
      ]
     },
     "execution_count": 4,
     "metadata": {},
     "output_type": "execute_result"
    }
   ],
   "source": [
    "# find shape of dataset\n",
    "dataset.shape"
   ]
  },
  {
   "cell_type": "code",
   "execution_count": 5,
   "id": "54bc279b-4f7b-424f-b284-ed5914529885",
   "metadata": {},
   "outputs": [
    {
     "data": {
      "text/plain": [
       "Datetime    0\n",
       "Open        0\n",
       "High        0\n",
       "Low         0\n",
       "Close       0\n",
       "Volume      0\n",
       "dtype: int64"
      ]
     },
     "execution_count": 5,
     "metadata": {},
     "output_type": "execute_result"
    }
   ],
   "source": [
    "# check for any missing or null values\n",
    "dataset.isnull().sum()"
   ]
  },
  {
   "cell_type": "code",
   "execution_count": 6,
   "id": "c1ef059c-d50e-4053-b9eb-7a5ef0767ee6",
   "metadata": {},
   "outputs": [
    {
     "data": {
      "text/plain": [
       "Datetime    datetime64[ns]\n",
       "Open               float64\n",
       "High               float64\n",
       "Low                float64\n",
       "Close              float64\n",
       "Volume               int64\n",
       "dtype: object"
      ]
     },
     "execution_count": 6,
     "metadata": {},
     "output_type": "execute_result"
    }
   ],
   "source": [
    "# as there are no values which is a good thing\n",
    "# now check the datatypes\n",
    "dataset.dtypes"
   ]
  },
  {
   "cell_type": "code",
   "execution_count": 7,
   "id": "a1b1c7ab-d858-4eeb-a7ab-369821ed4c09",
   "metadata": {},
   "outputs": [],
   "source": [
    "# Feature engineering\n"
   ]
  },
  {
   "cell_type": "code",
   "execution_count": 8,
   "id": "4e17fe82-10e3-4235-97a1-ac3ab1a2d0f6",
   "metadata": {},
   "outputs": [],
   "source": [
    "# scaling and normalization\n"
   ]
  },
  {
   "cell_type": "code",
   "execution_count": 9,
   "id": "1bb1caa1-69d5-49f2-b1d5-6ff67bf34d4a",
   "metadata": {},
   "outputs": [],
   "source": [
    "# encoding for time series data, specifically for models like LSTM\n"
   ]
  },
  {
   "cell_type": "code",
   "execution_count": 10,
   "id": "7978ae82-293a-495e-91ee-2e3a85330d17",
   "metadata": {},
   "outputs": [],
   "source": [
    "# now i just want to predict using simple data and simple models\n",
    "# lets drop the time column as we do not need to predict the volume\n",
    "final_dataset = dataset.drop(columns = ['Datetime'], axis = 1)"
   ]
  },
  {
   "cell_type": "code",
   "execution_count": 11,
   "id": "5ffbad0a-a1e4-453a-b4a4-514c326a86df",
   "metadata": {},
   "outputs": [
    {
     "data": {
      "text/html": [
       "<div>\n",
       "<style scoped>\n",
       "    .dataframe tbody tr th:only-of-type {\n",
       "        vertical-align: middle;\n",
       "    }\n",
       "\n",
       "    .dataframe tbody tr th {\n",
       "        vertical-align: top;\n",
       "    }\n",
       "\n",
       "    .dataframe thead th {\n",
       "        text-align: right;\n",
       "    }\n",
       "</style>\n",
       "<table border=\"1\" class=\"dataframe\">\n",
       "  <thead>\n",
       "    <tr style=\"text-align: right;\">\n",
       "      <th></th>\n",
       "      <th>Open</th>\n",
       "      <th>High</th>\n",
       "      <th>Low</th>\n",
       "      <th>Close</th>\n",
       "      <th>Volume</th>\n",
       "    </tr>\n",
       "  </thead>\n",
       "  <tbody>\n",
       "    <tr>\n",
       "      <th>0</th>\n",
       "      <td>0.901228</td>\n",
       "      <td>0.918527</td>\n",
       "      <td>0.888393</td>\n",
       "      <td>0.917969</td>\n",
       "      <td>163811200</td>\n",
       "    </tr>\n",
       "    <tr>\n",
       "      <th>1</th>\n",
       "      <td>0.936384</td>\n",
       "      <td>1.004464</td>\n",
       "      <td>0.907924</td>\n",
       "      <td>0.999442</td>\n",
       "      <td>535796800</td>\n",
       "    </tr>\n",
       "    <tr>\n",
       "      <th>2</th>\n",
       "      <td>0.966518</td>\n",
       "      <td>0.987723</td>\n",
       "      <td>0.903460</td>\n",
       "      <td>0.915179</td>\n",
       "      <td>512377600</td>\n",
       "    </tr>\n",
       "    <tr>\n",
       "      <th>3</th>\n",
       "      <td>0.926339</td>\n",
       "      <td>0.987165</td>\n",
       "      <td>0.919643</td>\n",
       "      <td>0.928571</td>\n",
       "      <td>778321600</td>\n",
       "    </tr>\n",
       "    <tr>\n",
       "      <th>4</th>\n",
       "      <td>0.947545</td>\n",
       "      <td>0.955357</td>\n",
       "      <td>0.848214</td>\n",
       "      <td>0.848214</td>\n",
       "      <td>767972800</td>\n",
       "    </tr>\n",
       "  </tbody>\n",
       "</table>\n",
       "</div>"
      ],
      "text/plain": [
       "       Open      High       Low     Close     Volume\n",
       "0  0.901228  0.918527  0.888393  0.917969  163811200\n",
       "1  0.936384  1.004464  0.907924  0.999442  535796800\n",
       "2  0.966518  0.987723  0.903460  0.915179  512377600\n",
       "3  0.926339  0.987165  0.919643  0.928571  778321600\n",
       "4  0.947545  0.955357  0.848214  0.848214  767972800"
      ]
     },
     "execution_count": 11,
     "metadata": {},
     "output_type": "execute_result"
    }
   ],
   "source": [
    "final_dataset.head(5)"
   ]
  },
  {
   "cell_type": "code",
   "execution_count": 24,
   "id": "51026776-0b48-439a-b1f5-f465df50c5dd",
   "metadata": {},
   "outputs": [
    {
     "data": {
      "text/plain": [
       "0       163811200\n",
       "1       535796800\n",
       "2       512377600\n",
       "3       778321600\n",
       "4       767972800\n",
       "          ...    \n",
       "6285     23234700\n",
       "6286     27237100\n",
       "6287     42355300\n",
       "6288     35557500\n",
       "6289     39480700\n",
       "Name: Volume, Length: 6290, dtype: int64"
      ]
     },
     "execution_count": 24,
     "metadata": {},
     "output_type": "execute_result"
    }
   ],
   "source": [
    "# split the dataset into depedent and independent\n",
    "x = final_dataset.iloc[:, :-1]\n",
    "y = final_dataset.iloc[:, -1]\n",
    "y"
   ]
  },
  {
   "cell_type": "code",
   "execution_count": 25,
   "id": "eb3f7932-34d9-4bf1-b5a9-af0e09d1dad3",
   "metadata": {},
   "outputs": [
    {
     "name": "stdout",
     "output_type": "stream",
     "text": [
      "(5346, 4)\n",
      "(5346,)\n"
     ]
    }
   ],
   "source": [
    "# now split into training and testing\n",
    "\n",
    "# specify split index\n",
    "split_index = int(len(final_dataset)*0.85)\n",
    "\n",
    "# split x into testing and training\n",
    "x_train = x.iloc[:split_index, :]\n",
    "x_test = x.iloc[split_index:, :]\n",
    "\n",
    "# now split y into testing and training\n",
    "y_train = y.iloc[:split_index]\n",
    "y_test = y.iloc[split_index:]\n",
    "print(x_train.shape)\n",
    "print(y_train.shape)"
   ]
  },
  {
   "cell_type": "code",
   "execution_count": 34,
   "id": "704a0395-33b0-4c48-9168-9f6ea64a137c",
   "metadata": {},
   "outputs": [
    {
     "data": {
      "text/html": [
       "<style>#sk-container-id-2 {color: black;}#sk-container-id-2 pre{padding: 0;}#sk-container-id-2 div.sk-toggleable {background-color: white;}#sk-container-id-2 label.sk-toggleable__label {cursor: pointer;display: block;width: 100%;margin-bottom: 0;padding: 0.3em;box-sizing: border-box;text-align: center;}#sk-container-id-2 label.sk-toggleable__label-arrow:before {content: \"▸\";float: left;margin-right: 0.25em;color: #696969;}#sk-container-id-2 label.sk-toggleable__label-arrow:hover:before {color: black;}#sk-container-id-2 div.sk-estimator:hover label.sk-toggleable__label-arrow:before {color: black;}#sk-container-id-2 div.sk-toggleable__content {max-height: 0;max-width: 0;overflow: hidden;text-align: left;background-color: #f0f8ff;}#sk-container-id-2 div.sk-toggleable__content pre {margin: 0.2em;color: black;border-radius: 0.25em;background-color: #f0f8ff;}#sk-container-id-2 input.sk-toggleable__control:checked~div.sk-toggleable__content {max-height: 200px;max-width: 100%;overflow: auto;}#sk-container-id-2 input.sk-toggleable__control:checked~label.sk-toggleable__label-arrow:before {content: \"▾\";}#sk-container-id-2 div.sk-estimator input.sk-toggleable__control:checked~label.sk-toggleable__label {background-color: #d4ebff;}#sk-container-id-2 div.sk-label input.sk-toggleable__control:checked~label.sk-toggleable__label {background-color: #d4ebff;}#sk-container-id-2 input.sk-hidden--visually {border: 0;clip: rect(1px 1px 1px 1px);clip: rect(1px, 1px, 1px, 1px);height: 1px;margin: -1px;overflow: hidden;padding: 0;position: absolute;width: 1px;}#sk-container-id-2 div.sk-estimator {font-family: monospace;background-color: #f0f8ff;border: 1px dotted black;border-radius: 0.25em;box-sizing: border-box;margin-bottom: 0.5em;}#sk-container-id-2 div.sk-estimator:hover {background-color: #d4ebff;}#sk-container-id-2 div.sk-parallel-item::after {content: \"\";width: 100%;border-bottom: 1px solid gray;flex-grow: 1;}#sk-container-id-2 div.sk-label:hover label.sk-toggleable__label {background-color: #d4ebff;}#sk-container-id-2 div.sk-serial::before {content: \"\";position: absolute;border-left: 1px solid gray;box-sizing: border-box;top: 0;bottom: 0;left: 50%;z-index: 0;}#sk-container-id-2 div.sk-serial {display: flex;flex-direction: column;align-items: center;background-color: white;padding-right: 0.2em;padding-left: 0.2em;position: relative;}#sk-container-id-2 div.sk-item {position: relative;z-index: 1;}#sk-container-id-2 div.sk-parallel {display: flex;align-items: stretch;justify-content: center;background-color: white;position: relative;}#sk-container-id-2 div.sk-item::before, #sk-container-id-2 div.sk-parallel-item::before {content: \"\";position: absolute;border-left: 1px solid gray;box-sizing: border-box;top: 0;bottom: 0;left: 50%;z-index: -1;}#sk-container-id-2 div.sk-parallel-item {display: flex;flex-direction: column;z-index: 1;position: relative;background-color: white;}#sk-container-id-2 div.sk-parallel-item:first-child::after {align-self: flex-end;width: 50%;}#sk-container-id-2 div.sk-parallel-item:last-child::after {align-self: flex-start;width: 50%;}#sk-container-id-2 div.sk-parallel-item:only-child::after {width: 0;}#sk-container-id-2 div.sk-dashed-wrapped {border: 1px dashed gray;margin: 0 0.4em 0.5em 0.4em;box-sizing: border-box;padding-bottom: 0.4em;background-color: white;}#sk-container-id-2 div.sk-label label {font-family: monospace;font-weight: bold;display: inline-block;line-height: 1.2em;}#sk-container-id-2 div.sk-label-container {text-align: center;}#sk-container-id-2 div.sk-container {/* jupyter's `normalize.less` sets `[hidden] { display: none; }` but bootstrap.min.css set `[hidden] { display: none !important; }` so we also need the `!important` here to be able to override the default hidden behavior on the sphinx rendered scikit-learn.org. See: https://github.com/scikit-learn/scikit-learn/issues/21755 */display: inline-block !important;position: relative;}#sk-container-id-2 div.sk-text-repr-fallback {display: none;}</style><div id=\"sk-container-id-2\" class=\"sk-top-container\"><div class=\"sk-text-repr-fallback\"><pre>KNeighborsRegressor(metric=&#x27;euclidean&#x27;, n_neighbors=29, weights=&#x27;distance&#x27;)</pre><b>In a Jupyter environment, please rerun this cell to show the HTML representation or trust the notebook. <br />On GitHub, the HTML representation is unable to render, please try loading this page with nbviewer.org.</b></div><div class=\"sk-container\" hidden><div class=\"sk-item\"><div class=\"sk-estimator sk-toggleable\"><input class=\"sk-toggleable__control sk-hidden--visually\" id=\"sk-estimator-id-2\" type=\"checkbox\" checked><label for=\"sk-estimator-id-2\" class=\"sk-toggleable__label sk-toggleable__label-arrow\">KNeighborsRegressor</label><div class=\"sk-toggleable__content\"><pre>KNeighborsRegressor(metric=&#x27;euclidean&#x27;, n_neighbors=29, weights=&#x27;distance&#x27;)</pre></div></div></div></div></div>"
      ],
      "text/plain": [
       "KNeighborsRegressor(metric='euclidean', n_neighbors=29, weights='distance')"
      ]
     },
     "execution_count": 34,
     "metadata": {},
     "output_type": "execute_result"
    }
   ],
   "source": [
    "# now apply knn model and predict the outcome\n",
    "\n",
    "# model\n",
    "knn_model = KNeighborsRegressor(n_neighbors = 29, metric='euclidean', weights='distance')\n",
    "\n",
    "# fit data\n",
    "knn_model.fit(x_train, y_train)"
   ]
  },
  {
   "cell_type": "code",
   "execution_count": 35,
   "id": "0426e4c8-5cce-4a5c-8211-e1ed31c143bb",
   "metadata": {},
   "outputs": [],
   "source": [
    "# predict the output\n",
    "y_pred = knn_model.predict(x_test)"
   ]
  },
  {
   "cell_type": "code",
   "execution_count": 36,
   "id": "ecac14c0-3816-4b6f-8bc8-d9441cf180fd",
   "metadata": {},
   "outputs": [
    {
     "name": "stdout",
     "output_type": "stream",
     "text": [
      "42625223.75181042\n",
      "2255179784502675.5\n",
      "-1.7440839388207752\n"
     ]
    }
   ],
   "source": [
    "# check accuracy\n",
    "mae = mean_absolute_error(y_test, y_pred)\n",
    "mse = mean_squared_error(y_test, y_pred)\n",
    "score_r2 = r2_score(y_test, y_pred)\n",
    "\n",
    "print(mae)\n",
    "print(mse)\n",
    "print(score_r2)"
   ]
  },
  {
   "cell_type": "code",
   "execution_count": 37,
   "id": "4cc1ad48-205b-4bee-8f91-a17c77cd07ee",
   "metadata": {},
   "outputs": [
    {
     "name": "stdout",
     "output_type": "stream",
     "text": [
      "Best score:  -0.8187832623100324\n",
      "Best params:  {'metric': 'euclidean', 'n_neighbors': 29, 'weights': 'distance'}\n"
     ]
    }
   ],
   "source": [
    "# hyperparameter tunning\n",
    "\n",
    "# set parameters\n",
    "params = {\n",
    "    'n_neighbors': np.arange(1, 30),\n",
    "    'weights': ['uniform', 'distance'],\n",
    "    'metric': ['euclidean', 'manhattan']\n",
    "}\n",
    "\n",
    "knn = KNeighborsRegressor()\n",
    "grid_search = GridSearchCV(knn, params, cv = 5, scoring = 'r2')\n",
    "grid_search.fit(x_train, y_train)\n",
    "\n",
    "print('Best score: ', grid_search.best_score_)\n",
    "print('Best params: ', grid_search.best_params_)"
   ]
  },
  {
   "cell_type": "code",
   "execution_count": 40,
   "id": "123e3cc5-1493-4b46-ab26-1d64d57808e2",
   "metadata": {},
   "outputs": [
    {
     "data": {
      "text/plain": [
       "['knn_model.joblib']"
      ]
     },
     "execution_count": 40,
     "metadata": {},
     "output_type": "execute_result"
    }
   ],
   "source": [
    "# even though this model is not performing well, lets save it\n",
    "dump(knn_model, 'knn_model.joblib')"
   ]
  },
  {
   "cell_type": "code",
   "execution_count": null,
   "id": "2cf3d45b-469c-416e-918d-ce3173dad447",
   "metadata": {},
   "outputs": [],
   "source": []
  }
 ],
 "metadata": {
  "kernelspec": {
   "display_name": "Python 3 (ipykernel)",
   "language": "python",
   "name": "python3"
  },
  "language_info": {
   "codemirror_mode": {
    "name": "ipython",
    "version": 3
   },
   "file_extension": ".py",
   "mimetype": "text/x-python",
   "name": "python",
   "nbconvert_exporter": "python",
   "pygments_lexer": "ipython3",
   "version": "3.11.7"
  }
 },
 "nbformat": 4,
 "nbformat_minor": 5
}
