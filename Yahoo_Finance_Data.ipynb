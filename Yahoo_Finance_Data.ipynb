{
 "cells": [
  {
   "cell_type": "code",
   "execution_count": 16,
   "id": "99368539-1297-4cc6-9325-1b7ae8302ca2",
   "metadata": {},
   "outputs": [],
   "source": [
    "# import required libraries\n",
    "import pandas as pd\n",
    "import numpy as np\n",
    "import requests as rq\n",
    "import plotly.graph_objects as go\n",
    "import time\n",
    "import datetime"
   ]
  },
  {
   "cell_type": "code",
   "execution_count": 21,
   "id": "f8e84fe0-691b-4b71-94b4-0f883ad16842",
   "metadata": {},
   "outputs": [
    {
     "name": "stdout",
     "output_type": "stream",
     "text": [
      "             Datetime      Open      High       Low     Close     Volume\n",
      "0 1999-12-31 14:30:00  0.901228  0.918527  0.888393  0.917969  163811200\n",
      "1 2000-01-03 14:30:00  0.936384  1.004464  0.907924  0.999442  535796800\n",
      "2 2000-01-04 14:30:00  0.966518  0.987723  0.903460  0.915179  512377600\n",
      "3 2000-01-05 14:30:00  0.926339  0.987165  0.919643  0.928571  778321600\n",
      "4 2000-01-06 14:30:00  0.947545  0.955357  0.848214  0.848214  767972800\n"
     ]
    }
   ],
   "source": [
    "# Define your stock and time period\n",
    "start_timestamp = '2000-01-01'\n",
    "end_timestamp = '2025-01-01'\n",
    "symbol = 'AAPL'\n",
    "\n",
    "# now convert time into unix format\n",
    "def to_unix_timestamp(date_str):\n",
    "    dt = datetime.datetime.strptime(date_str, \"%Y-%m-%d\")\n",
    "    return int(time.mktime(dt.timetuple()))\n",
    "\n",
    "# now define the periods\n",
    "period1 = to_unix_timestamp(start_timestamp)\n",
    "period2 = to_unix_timestamp(end_timestamp)\n",
    "\n",
    "# Build the URL\n",
    "url = f\"https://query1.finance.yahoo.com/v8/finance/chart/{symbol}\"\n",
    "\n",
    "params = {\n",
    "    \"period1\": period1,\n",
    "    \"period2\": period2,\n",
    "    \"interval\": \"1d\",\n",
    "    \"events\": \"history\",\n",
    "    \"includeAdjustedClose\": \"true\"\n",
    "}\n",
    "\n",
    "headers = {\n",
    "    \"User-Agent\": \"Mozilla/5.0\"\n",
    "}\n",
    "\n",
    "# Send request\n",
    "response = rq.get(url, headers=headers, params=params)\n",
    "\n",
    "# Process response\n",
    "if response.status_code == 200:\n",
    "    data = response.json()\n",
    "    timestamps = data['chart']['result'][0]['timestamp']\n",
    "    indicators = data['chart']['result'][0]['indicators']['quote'][0]\n",
    "    \n",
    "    dataset = pd.DataFrame({\n",
    "        'Datetime': pd.to_datetime(timestamps, unit='s'),\n",
    "        'Open': indicators['open'],\n",
    "        'High': indicators['high'],\n",
    "        'Low': indicators['low'],\n",
    "        'Close': indicators['close'],\n",
    "        'Volume': indicators['volume']\n",
    "    })\n",
    "    \n",
    "    print(dataset.head())\n",
    "    \n",
    "else:\n",
    "    print(f\"Failed to fetch data {response.status_code}\")"
   ]
  },
  {
   "cell_type": "code",
   "execution_count": 22,
   "id": "beb95258-a15e-44a1-95a8-fb03aa4f32d2",
   "metadata": {},
   "outputs": [
    {
     "data": {
      "text/html": [
       "<div>\n",
       "<style scoped>\n",
       "    .dataframe tbody tr th:only-of-type {\n",
       "        vertical-align: middle;\n",
       "    }\n",
       "\n",
       "    .dataframe tbody tr th {\n",
       "        vertical-align: top;\n",
       "    }\n",
       "\n",
       "    .dataframe thead th {\n",
       "        text-align: right;\n",
       "    }\n",
       "</style>\n",
       "<table border=\"1\" class=\"dataframe\">\n",
       "  <thead>\n",
       "    <tr style=\"text-align: right;\">\n",
       "      <th></th>\n",
       "      <th>Datetime</th>\n",
       "      <th>Open</th>\n",
       "      <th>High</th>\n",
       "      <th>Low</th>\n",
       "      <th>Close</th>\n",
       "      <th>Volume</th>\n",
       "    </tr>\n",
       "  </thead>\n",
       "  <tbody>\n",
       "    <tr>\n",
       "      <th>0</th>\n",
       "      <td>1999-12-31 14:30:00</td>\n",
       "      <td>0.901228</td>\n",
       "      <td>0.918527</td>\n",
       "      <td>0.888393</td>\n",
       "      <td>0.917969</td>\n",
       "      <td>163811200</td>\n",
       "    </tr>\n",
       "    <tr>\n",
       "      <th>1</th>\n",
       "      <td>2000-01-03 14:30:00</td>\n",
       "      <td>0.936384</td>\n",
       "      <td>1.004464</td>\n",
       "      <td>0.907924</td>\n",
       "      <td>0.999442</td>\n",
       "      <td>535796800</td>\n",
       "    </tr>\n",
       "    <tr>\n",
       "      <th>2</th>\n",
       "      <td>2000-01-04 14:30:00</td>\n",
       "      <td>0.966518</td>\n",
       "      <td>0.987723</td>\n",
       "      <td>0.903460</td>\n",
       "      <td>0.915179</td>\n",
       "      <td>512377600</td>\n",
       "    </tr>\n",
       "    <tr>\n",
       "      <th>3</th>\n",
       "      <td>2000-01-05 14:30:00</td>\n",
       "      <td>0.926339</td>\n",
       "      <td>0.987165</td>\n",
       "      <td>0.919643</td>\n",
       "      <td>0.928571</td>\n",
       "      <td>778321600</td>\n",
       "    </tr>\n",
       "    <tr>\n",
       "      <th>4</th>\n",
       "      <td>2000-01-06 14:30:00</td>\n",
       "      <td>0.947545</td>\n",
       "      <td>0.955357</td>\n",
       "      <td>0.848214</td>\n",
       "      <td>0.848214</td>\n",
       "      <td>767972800</td>\n",
       "    </tr>\n",
       "  </tbody>\n",
       "</table>\n",
       "</div>"
      ],
      "text/plain": [
       "             Datetime      Open      High       Low     Close     Volume\n",
       "0 1999-12-31 14:30:00  0.901228  0.918527  0.888393  0.917969  163811200\n",
       "1 2000-01-03 14:30:00  0.936384  1.004464  0.907924  0.999442  535796800\n",
       "2 2000-01-04 14:30:00  0.966518  0.987723  0.903460  0.915179  512377600\n",
       "3 2000-01-05 14:30:00  0.926339  0.987165  0.919643  0.928571  778321600\n",
       "4 2000-01-06 14:30:00  0.947545  0.955357  0.848214  0.848214  767972800"
      ]
     },
     "execution_count": 22,
     "metadata": {},
     "output_type": "execute_result"
    }
   ],
   "source": [
    "# find dataset\n",
    "dataset.head()"
   ]
  },
  {
   "cell_type": "code",
   "execution_count": 23,
   "id": "bdb6d01b-43a0-4fea-8e71-7453b6e584f9",
   "metadata": {},
   "outputs": [
    {
     "data": {
      "text/plain": [
       "(6290, 6)"
      ]
     },
     "execution_count": 23,
     "metadata": {},
     "output_type": "execute_result"
    }
   ],
   "source": [
    "# find shape of dataset\n",
    "dataset.shape"
   ]
  },
  {
   "cell_type": "code",
   "execution_count": 24,
   "id": "54bc279b-4f7b-424f-b284-ed5914529885",
   "metadata": {},
   "outputs": [
    {
     "data": {
      "text/plain": [
       "Datetime    0\n",
       "Open        0\n",
       "High        0\n",
       "Low         0\n",
       "Close       0\n",
       "Volume      0\n",
       "dtype: int64"
      ]
     },
     "execution_count": 24,
     "metadata": {},
     "output_type": "execute_result"
    }
   ],
   "source": [
    "# check for any missing or null values\n",
    "dataset.isnull().sum()"
   ]
  },
  {
   "cell_type": "code",
   "execution_count": 25,
   "id": "c1ef059c-d50e-4053-b9eb-7a5ef0767ee6",
   "metadata": {},
   "outputs": [
    {
     "data": {
      "text/plain": [
       "Datetime    datetime64[ns]\n",
       "Open               float64\n",
       "High               float64\n",
       "Low                float64\n",
       "Close              float64\n",
       "Volume               int64\n",
       "dtype: object"
      ]
     },
     "execution_count": 25,
     "metadata": {},
     "output_type": "execute_result"
    }
   ],
   "source": [
    "# as there are no values which is a good thing\n",
    "# now check the datatypes\n",
    "dataset.dtypes"
   ]
  },
  {
   "cell_type": "code",
   "execution_count": null,
   "id": "a1b1c7ab-d858-4eeb-a7ab-369821ed4c09",
   "metadata": {},
   "outputs": [],
   "source": [
    "# all the "
   ]
  }
 ],
 "metadata": {
  "kernelspec": {
   "display_name": "Python 3 (ipykernel)",
   "language": "python",
   "name": "python3"
  },
  "language_info": {
   "codemirror_mode": {
    "name": "ipython",
    "version": 3
   },
   "file_extension": ".py",
   "mimetype": "text/x-python",
   "name": "python",
   "nbconvert_exporter": "python",
   "pygments_lexer": "ipython3",
   "version": "3.11.7"
  }
 },
 "nbformat": 4,
 "nbformat_minor": 5
}
